{
  "nbformat": 4,
  "nbformat_minor": 5,
  "metadata": {
    "colab": {
      "provenance": [],
      "gpuType": "T4"
    },
    "kernelspec": {
      "name": "python3",
      "display_name": "Python 3"
    },
    "language_info": {
      "name": "python"
    },
    "accelerator": "GPU"
  },
  "cells": [
    {
      "cell_type": "markdown",
      "source": [
        "### **Tahap 2 Disusun Oleh** 👨‍🎓✒️\n",
        ">**Nama: Fitra Romeo Winky**\n",
        "\n",
        ">**NIM: 202210370311056**\n",
        "\n",
        ">**Nama: Muhammad Aunul Hakim**\n",
        "\n",
        ">**NIM: 202210370311073**\n",
        "\n",
        ">**Kelas: C**\n",
        "\n",
        ">**Mata Kuliah: Penalaran Komputer**\n",
        "\n",
        ">**Jurusan: Informatika**"
      ],
      "metadata": {
        "id": "gVWL8NCsd1jy"
      },
      "id": "gVWL8NCsd1jy"
    },
    {
      "cell_type": "code",
      "source": [
        "from google.colab import drive\n",
        "drive.mount('/content/drive')"
      ],
      "metadata": {
        "colab": {
          "base_uri": "https://localhost:8080/"
        },
        "id": "yOlgBVTEaYqZ",
        "outputId": "3529e0eb-7abf-4ed7-a48d-51062a726efa"
      },
      "id": "yOlgBVTEaYqZ",
      "execution_count": null,
      "outputs": [
        {
          "output_type": "stream",
          "name": "stdout",
          "text": [
            "Drive already mounted at /content/drive; to attempt to forcibly remount, call drive.mount(\"/content/drive\", force_remount=True).\n"
          ]
        }
      ]
    },
    {
      "cell_type": "code",
      "source": [
        "import os\n",
        "import pandas as pd\n",
        "import re\n",
        "\n",
        "# === PATH SETUP ===\n",
        "BASE_DIR = '/content/drive/MyDrive/SEMESTER 6/Penalaran Komputer/UAS_Penalaran Komputer'\n",
        "CSV_INPUT = os.path.join(BASE_DIR, 'CSV/putusan_ma_penganiayaan_2025-06-26.csv')  # ganti sesuai nama\n",
        "RAW_DIR = os.path.join(BASE_DIR, 'data/raw')\n",
        "PROCESSED_DIR = os.path.join(BASE_DIR, 'data/processed')\n",
        "os.makedirs(PROCESSED_DIR, exist_ok=True)\n",
        "\n",
        "CSV_OUTPUT = os.path.join(PROCESSED_DIR, 'cases.csv')\n",
        "JSON_OUTPUT = os.path.join(PROCESSED_DIR, 'cases.json')\n",
        "\n",
        "# === BACA METADATA DARI CSV ===\n",
        "df_meta = pd.read_csv(CSV_INPUT)\n",
        "\n",
        "# === PROSES TIAP DOKUMEN ===\n",
        "case_data = []\n",
        "\n",
        "def extract_ringkasan_fakta(text):\n",
        "    # Ambil paragraf awal sebagai ringkasan kasar\n",
        "    return text.strip()[:500]\n",
        "\n",
        "def extract_argumen_hukum(text):\n",
        "    # Ambil bagian yang mengandung kata \"menimbang\", \"putusan\", \"memutuskan\"\n",
        "    match = re.search(r'(menimbang.*?)\\n', text.lower(), re.DOTALL)\n",
        "    return match.group(1)[:500] if match else ''\n",
        "\n",
        "for idx, row in df_meta.iterrows():\n",
        "    pdf_name = row.get('file_name_pdf', '')\n",
        "    if not isinstance(pdf_name, str):\n",
        "        continue\n",
        "\n",
        "    txt_filename = pdf_name.replace('.pdf', '.txt').replace(\"/\", \"_\")\n",
        "    txt_path = os.path.join(RAW_DIR, txt_filename)\n",
        "\n",
        "    if os.path.exists(txt_path):\n",
        "        with open(txt_path, 'r', encoding='utf-8') as f:\n",
        "            text_full = f.read()\n",
        "\n",
        "        # Ekstraksi konten kunci\n",
        "        ringkasan_fakta = extract_ringkasan_fakta(text_full)\n",
        "        argumen_hukum = extract_argumen_hukum(text_full)\n",
        "\n",
        "        # Feature Engineering\n",
        "        length_kata = len(text_full.split())\n",
        "        jumlah_pasal = text_full.lower().count(\"pasal\")\n",
        "        contains_pidana = \"pidana\" in text_full.lower()\n",
        "        contains_penganiayaan = \"penganiayaan\" in text_full.lower()\n",
        "\n",
        "        # Bangun record\n",
        "        case_data.append({\n",
        "            'case_id': idx + 1,\n",
        "            'no_perkara': row.get('nomor', ''),\n",
        "            'tanggal': row.get('tanggal_register', ''),\n",
        "            'jenis_perkara': row.get('klasifikasi', ''),\n",
        "            'pasal': row.get('kaidah', ''),\n",
        "            'pihak': row.get('lembaga_peradilan', ''),\n",
        "            'ringkasan_fakta': ringkasan_fakta,\n",
        "            'argumen_hukum': argumen_hukum,\n",
        "            'length_kata': length_kata,\n",
        "            'jumlah_pasal': jumlah_pasal,\n",
        "            'mengandung_pidana': contains_pidana,\n",
        "            'mengandung_penganiayaan': contains_penganiayaan,\n",
        "            'text_full': text_full.strip()\n",
        "        })\n",
        "\n",
        "# === SIMPAN KE CSV & JSON ===\n",
        "df_output = pd.DataFrame(case_data)\n",
        "df_output.to_csv(CSV_OUTPUT, index=False, encoding='utf-8')\n",
        "df_output.to_json(JSON_OUTPUT, orient='records', indent=2, force_ascii=False)\n",
        "\n",
        "print(f\"✔️ Tahap 2 selesai dan disimpan:\")\n",
        "print(f\"- CSV: {CSV_OUTPUT}\")\n",
        "print(f\"- JSON: {JSON_OUTPUT}\")\n"
      ],
      "metadata": {
        "colab": {
          "base_uri": "https://localhost:8080/"
        },
        "id": "l4cfY5tsZM-h",
        "outputId": "61801ef9-773f-4553-a32b-629a64754860"
      },
      "id": "l4cfY5tsZM-h",
      "execution_count": null,
      "outputs": [
        {
          "output_type": "stream",
          "name": "stdout",
          "text": [
            "✔️ Tahap 2 selesai dan disimpan:\n",
            "- CSV: /content/drive/MyDrive/SEMESTER 6/Penalaran Komputer/UAS_Penalaran Komputer/data/processed/cases.csv\n",
            "- JSON: /content/drive/MyDrive/SEMESTER 6/Penalaran Komputer/UAS_Penalaran Komputer/data/processed/cases.json\n"
          ]
        }
      ]
    },
    {
      "cell_type": "code",
      "source": [
        "print(os.listdir(PROCESSED_DIR))\n"
      ],
      "metadata": {
        "colab": {
          "base_uri": "https://localhost:8080/"
        },
        "id": "vcyRooOGdZ9C",
        "outputId": "8ff87b59-beb8-479a-f65b-7375b47c19fd"
      },
      "id": "vcyRooOGdZ9C",
      "execution_count": null,
      "outputs": [
        {
          "output_type": "stream",
          "name": "stdout",
          "text": [
            "['cases.csv', 'cases.json']\n"
          ]
        }
      ]
    }
  ]
}