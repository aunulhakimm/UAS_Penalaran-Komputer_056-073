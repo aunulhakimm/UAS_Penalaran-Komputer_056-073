{
  "nbformat": 4,
  "nbformat_minor": 5,
  "metadata": {
    "colab": {
      "provenance": [],
      "gpuType": "T4"
    },
    "kernelspec": {
      "name": "python3",
      "display_name": "Python 3"
    },
    "language_info": {
      "name": "python"
    },
    "accelerator": "GPU"
  },
  "cells": [
    {
      "cell_type": "markdown",
      "source": [
        "### **Tahap 4 Disusun Oleh** 👨‍🎓✒️\n",
        ">**Nama: Fitra Romeo Winky**\n",
        "\n",
        ">**NIM: 202210370311056**\n",
        "\n",
        ">**Nama: Muhammad Aunul Hakim**\n",
        "\n",
        ">**NIM: 202210370311073**\n",
        "\n",
        ">**Kelas: C**\n",
        "\n",
        ">**Mata Kuliah: Penalaran Komputer**\n",
        "\n",
        ">**Jurusan: Informatika**"
      ],
      "metadata": {
        "id": "gVWL8NCsd1jy"
      },
      "id": "gVWL8NCsd1jy"
    },
    {
      "cell_type": "code",
      "source": [
        "from google.colab import drive\n",
        "drive.mount('/content/drive')"
      ],
      "metadata": {
        "colab": {
          "base_uri": "https://localhost:8080/"
        },
        "id": "yOlgBVTEaYqZ",
        "outputId": "edc7a2ea-1a32-4f90-d898-f83da42586c3"
      },
      "id": "yOlgBVTEaYqZ",
      "execution_count": 33,
      "outputs": [
        {
          "output_type": "stream",
          "name": "stdout",
          "text": [
            "Drive already mounted at /content/drive; to attempt to forcibly remount, call drive.mount(\"/content/drive\", force_remount=True).\n"
          ]
        }
      ]
    },
    {
      "cell_type": "code",
      "source": [
        "import pandas as pd\n",
        "import numpy as np\n",
        "import os\n",
        "import json\n",
        "from collections import Counter\n",
        "from sklearn.metrics.pairwise import cosine_similarity\n",
        "from sklearn.feature_extraction.text import TfidfVectorizer\n",
        "from transformers import AutoTokenizer, AutoModel\n",
        "import torch\n",
        "\n",
        "# Path\n",
        "BASE_DIR = '/content/drive/MyDrive/SEMESTER 6/Penalaran Komputer/UAS_Penalaran Komputer'\n",
        "DATA_PATH = os.path.join(BASE_DIR, 'data/processed/cases.csv')\n",
        "RESULT_PATH = os.path.join(BASE_DIR, 'data/results/predictions.csv')\n",
        "\n",
        "# Load data\n",
        "df = pd.read_csv(DATA_PATH)\n",
        "print(f\"Data loaded: {len(df)} kasus\")\n",
        "\n",
        "# Buat retrieval_text jika belum ada\n",
        "if 'retrieval_text' not in df.columns:\n",
        "    text_columns = ['ringkasan_fakta', 'argumen_hukum', 'pihak']\n",
        "\n",
        "    # Gabungkan kolom yang tersedia\n",
        "    combined_parts = []\n",
        "    for col in text_columns:\n",
        "        if col in df.columns:\n",
        "            combined_parts.append(df[col].fillna('').astype(str))\n",
        "\n",
        "    if combined_parts:\n",
        "        df['combined_text'] = combined_parts[0]\n",
        "        for part in combined_parts[1:]:\n",
        "            df['combined_text'] = df['combined_text'] + ' ' + part\n",
        "    else:\n",
        "        df['combined_text'] = ''\n",
        "\n",
        "    # Gunakan text_full jika ada\n",
        "    if 'text_full' in df.columns:\n",
        "        df['retrieval_text'] = df['text_full'].fillna(df['combined_text'])\n",
        "    else:\n",
        "        df['retrieval_text'] = df['combined_text']\n",
        "\n"
      ],
      "metadata": {
        "colab": {
          "base_uri": "https://localhost:8080/"
        },
        "id": "0c3ILsOb_KZ_",
        "outputId": "7d7e101c-8345-4ea8-bc69-08a385e4534e"
      },
      "id": "0c3ILsOb_KZ_",
      "execution_count": 37,
      "outputs": [
        {
          "output_type": "stream",
          "name": "stdout",
          "text": [
            "Data loaded: 31 kasus\n"
          ]
        }
      ]
    },
    {
      "cell_type": "code",
      "source": [
        "# Bangun dictionary {case_id: solusi}\n",
        "case_solutions = {}\n",
        "for _, row in df.iterrows():\n",
        "    case_id = row['case_id']\n",
        "    if pd.notna(row.get('amar_putusan')) and str(row['amar_putusan']).strip():\n",
        "        solusi = str(row['amar_putusan'])\n",
        "    else:\n",
        "        solusi = str(row.get('ringkasan_fakta', 'Tidak tersedia'))\n",
        "    case_solutions[case_id] = solusi.strip()[:500]  # potong maksimal 500 karakter\n"
      ],
      "metadata": {
        "id": "umM_2Hr5_Ng5"
      },
      "id": "umM_2Hr5_Ng5",
      "execution_count": 38,
      "outputs": []
    },
    {
      "cell_type": "code",
      "source": [
        "# Representasi TF-IDF\n",
        "vectorizer = TfidfVectorizer(max_features=5000, ngram_range=(1,2), stop_words=None)\n",
        "tfidf_matrix = vectorizer.fit_transform(df['retrieval_text'].fillna(''))\n"
      ],
      "metadata": {
        "id": "700oLP5L_PUZ"
      },
      "id": "700oLP5L_PUZ",
      "execution_count": 39,
      "outputs": []
    },
    {
      "cell_type": "code",
      "source": [
        "def retrieve_similar_cases(query_text, top_k=5):\n",
        "    \"\"\"Lakukan pencarian kasus serupa dengan TF-IDF\"\"\"\n",
        "    query_vector = vectorizer.transform([query_text])\n",
        "    sims = cosine_similarity(query_vector, tfidf_matrix).flatten()\n",
        "    top_indices = sims.argsort()[-top_k:][::-1]\n",
        "    return [(df.iloc[i]['case_id'], sims[i]) for i in top_indices]\n",
        "\n",
        "def predict_outcome(query_text, method='majority', top_k=5):\n",
        "    \"\"\"Prediksi solusi dari top-k hasil retrieval\"\"\"\n",
        "    top_k_cases = retrieve_similar_cases(query_text, top_k)\n",
        "    solusi_list = [case_solutions[case_id] for case_id, _ in top_k_cases]\n",
        "\n",
        "    if method == 'majority':\n",
        "        return Counter(solusi_list).most_common(1)[0][0], [cid for cid, _ in top_k_cases]\n",
        "\n",
        "    elif method == 'weighted':\n",
        "        weighted_counter = {}\n",
        "        for (case_id, score) in top_k_cases:\n",
        "            solusi = case_solutions[case_id]\n",
        "            weighted_counter[solusi] = weighted_counter.get(solusi, 0) + score\n",
        "        return max(weighted_counter.items(), key=lambda x: x[1])[0], [cid for cid, _ in top_k_cases]\n",
        "\n",
        "    else:\n",
        "        raise ValueError(\"Method harus 'majority' atau 'weighted'\")\n"
      ],
      "metadata": {
        "id": "Fme9zvit_ezT"
      },
      "id": "Fme9zvit_ezT",
      "execution_count": 40,
      "outputs": []
    },
    {
      "cell_type": "code",
      "source": [
        "queries = [\n",
        "    {\"query_id\": \"query_001\", \"text\": \"Tindak penganiayaan yang menyebabkan luka ringan\"},\n",
        "    {\"query_id\": \"query_002\", \"text\": \"Kasus penganiayaan dalam rumah tangga\"},\n",
        "    {\"query_id\": \"query_003\", \"text\": \"Kekerasan fisik akibat perselisihan keluarga\"},\n",
        "    {\"query_id\": \"query_004\", \"text\": \"Penganiayaan saat bentrok antar warga\"},\n",
        "    {\"query_id\": \"query_005\", \"text\": \"Penyerangan yang mengakibatkan korban luka berat\"},\n",
        "]\n",
        "\n",
        "results.append({\n",
        "    \"query_id\": q['query_id'],\n",
        "    \"query_text\": q['text'],\n",
        "    \"predicted_solution\": pred_sol,\n",
        "    \"top_5_case_ids\": \";\".join(str(case_id) for case_id in top_cases)\n",
        "})\n",
        "\n"
      ],
      "metadata": {
        "id": "ATgBvNzJ_geF"
      },
      "id": "ATgBvNzJ_geF",
      "execution_count": 42,
      "outputs": []
    },
    {
      "cell_type": "code",
      "source": [
        "df_results = pd.DataFrame(results)\n",
        "os.makedirs(os.path.dirname(RESULT_PATH), exist_ok=True)\n",
        "df_results.to_csv(RESULT_PATH, index=False, encoding='utf-8')\n",
        "print(f\"✔️ Hasil prediksi disimpan ke: {RESULT_PATH}\")\n"
      ],
      "metadata": {
        "colab": {
          "base_uri": "https://localhost:8080/"
        },
        "id": "i3DzuUSq_sXH",
        "outputId": "c8852e37-843d-4000-f048-da4bab42cd5f"
      },
      "id": "i3DzuUSq_sXH",
      "execution_count": 43,
      "outputs": [
        {
          "output_type": "stream",
          "name": "stdout",
          "text": [
            "✔️ Hasil prediksi disimpan ke: /content/drive/MyDrive/SEMESTER 6/Penalaran Komputer/UAS_Penalaran Komputer/data/results/predictions.csv\n"
          ]
        }
      ]
    }
  ]
}